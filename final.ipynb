{
  "nbformat": 4,
  "nbformat_minor": 0,
  "metadata": {
    "colab": {
      "provenance": [],
      "authorship_tag": "ABX9TyMfUKO2CUbklUXq7/rDgDjm",
      "include_colab_link": true
    },
    "kernelspec": {
      "name": "python3",
      "display_name": "Python 3"
    },
    "language_info": {
      "name": "python"
    }
  },
  "cells": [
    {
      "cell_type": "markdown",
      "metadata": {
        "id": "view-in-github",
        "colab_type": "text"
      },
      "source": [
        "<a href=\"https://colab.research.google.com/github/javierbaldrich/5510/blob/main/final.ipynb\" target=\"_parent\"><img src=\"https://colab.research.google.com/assets/colab-badge.svg\" alt=\"Open In Colab\"/></a>"
      ]
    },
    {
      "cell_type": "markdown",
      "source": [
        "# Data-driven TV ad for a bank \n",
        "\n",
        "My final project will be based on  a dataset from Kaggle (https://www.kaggle.com/datasets/shivamb/bank-customer-segmentation) which consists of transactions performed by a bank's customers.\n",
        "\n",
        "The idea is to use a k-means clustering model to select target customers that the bank's marketing team can try to reach out to in a television commercial. Based on the 4 centroids defined by our model, the bank will select demographically appropriate actors, who will in turn be filmend performing  financially appropriate transactions vis-a-vis the model centroids.\n",
        "\n",
        "Let's start by importing some libraries and taking a look at the dataset."
      ],
      "metadata": {
        "id": "kTSrKA3VesjN"
      }
    },
    {
      "cell_type": "code",
      "execution_count": 1,
      "metadata": {
        "id": "lZqRjbdneQ0r"
      },
      "outputs": [],
      "source": [
        "import pandas as pd\n",
        "from datetime import date\n",
        "import numpy as np\n",
        "from sklearn.cluster import KMeans, AgglomerativeClustering\n",
        "import seaborn as sns\n",
        "import matplotlib.pyplot as plt\n",
        "from sklearn.ensemble import RandomForestRegressor\n",
        "from sklearn.preprocessing import LabelEncoder, StandardScaler\n",
        "from google.colab import drive "
      ]
    },
    {
      "cell_type": "code",
      "source": [
        "drive.mount('/content/gdrive')\n",
        "trx_df = pd.read_csv('/content/gdrive/MyDrive/5510/final_proj/bank_transactions.csv')\n",
        "# trx_df = trx_df.sample(22000)\n",
        "\n",
        "# Sample 10 records\n",
        "print(trx_df.sample(10).to_string())\n",
        "# Field descriptions\n",
        "print(trx_df.describe(include='all').to_string())"
      ],
      "metadata": {
        "colab": {
          "base_uri": "https://localhost:8080/"
        },
        "id": "1BBeZCSrhUTW",
        "outputId": "e4fd1083-a4a2-46c8-f0da-00f81b0438c9"
      },
      "execution_count": 2,
      "outputs": [
        {
          "output_type": "stream",
          "name": "stdout",
          "text": [
            "Drive already mounted at /content/gdrive; to attempt to forcibly remount, call drive.mount(\"/content/gdrive\", force_remount=True).\n",
            "       TransactionID CustomerID CustomerDOB CustGender CustLocation  CustAccountBalance TransactionDate  TransactionTime  TransactionAmount (INR)\n",
            "455402       T455403   C2325651     16/3/72          M       MUMBAI            10744.47         16/8/16           185141                  1130.00\n",
            "67098         T67099   C3049669     12/5/88          M     DEHRADUN            16267.76          2/8/16           145815                    20.00\n",
            "426616       T426617   C1123552    28/11/92          M       MUMBAI            87292.58         17/8/16           170410                   200.00\n",
            "996063       T996064   C6946891     25/7/90          F       MUMBAI              211.90         14/9/16            93312                   653.00\n",
            "29110         T29111   C5038218      2/3/56          M     GUWAHATI            20815.46         25/9/16           204032                   276.52\n",
            "482716       T482717   C5423249     21/7/84          M        THANE              445.76        21/10/16           170050                  3300.00\n",
            "709783       T709784   C8142450      3/6/77          M       MUMBAI            10820.05          3/9/16           165543                  1008.00\n",
            "684561       T684562   C3191755    27/10/85          M    NEW DELHI                9.22         30/8/16            82136                   500.00\n",
            "934819       T934820   C4722151     17/2/83          M      CHENNAI             4457.34         11/9/16           141155                   266.00\n",
            "988932       T988933   C2612214     25/5/94          F        SURAT             8709.90         15/9/16           191221                   185.00\n",
            "       TransactionID CustomerID CustomerDOB CustGender CustLocation  CustAccountBalance TransactionDate  TransactionTime  TransactionAmount (INR)\n",
            "count        1048567    1048567     1045170    1047467      1048416        1.046198e+06         1048567     1.048567e+06             1.048567e+06\n",
            "unique       1048567     884265       17254          3         9355                 NaN              55              NaN                      NaN\n",
            "top               T1   C5533885    1/1/1800          M       MUMBAI                 NaN          7/8/16              NaN                      NaN\n",
            "freq               1          6       57339     765530       103595                 NaN           27261              NaN                      NaN\n",
            "mean             NaN        NaN         NaN        NaN          NaN        1.154035e+05             NaN     1.570875e+05             1.574335e+03\n",
            "std              NaN        NaN         NaN        NaN          NaN        8.464854e+05             NaN     5.126185e+04             6.574743e+03\n",
            "min              NaN        NaN         NaN        NaN          NaN        0.000000e+00             NaN     0.000000e+00             0.000000e+00\n",
            "25%              NaN        NaN         NaN        NaN          NaN        4.721760e+03             NaN     1.240300e+05             1.610000e+02\n",
            "50%              NaN        NaN         NaN        NaN          NaN        1.679218e+04             NaN     1.642260e+05             4.590300e+02\n",
            "75%              NaN        NaN         NaN        NaN          NaN        5.765736e+04             NaN     2.000100e+05             1.200000e+03\n",
            "max              NaN        NaN         NaN        NaN          NaN        1.150355e+08             NaN     2.359590e+05             1.560035e+06\n"
          ]
        }
      ]
    },
    {
      "cell_type": "markdown",
      "source": [
        "# Fields with minimal or no manipulation needed\n",
        "**CustAccountBalance**\n",
        "\n",
        "Violin plot for all account balances (above) and for the bottom 90% of balances (below). Second chart is provided to get a better understanding of the distribution "
      ],
      "metadata": {
        "id": "SCrsIYaqp3Et"
      }
    },
    {
      "cell_type": "code",
      "source": [
        "sns.violinplot(x=trx_df['CustAccountBalance'])\n",
        "plt.show()\n",
        "y = trx_df[trx_df['CustAccountBalance']<trx_df['CustAccountBalance'].quantile(0.90)]\n",
        "sns.violinplot(x=y['CustAccountBalance'])\n",
        "plt.show()"
      ],
      "metadata": {
        "colab": {
          "base_uri": "https://localhost:8080/",
          "height": 541
        },
        "id": "QIe81_dWqM5B",
        "outputId": "503cf6b5-5d1d-4efa-b91d-cc987b2263f5"
      },
      "execution_count": 3,
      "outputs": [
        {
          "output_type": "display_data",
          "data": {
            "text/plain": [
              "<Figure size 432x288 with 1 Axes>"
            ],
            "image/png": "[encoded data removed]"
          },
          "metadata": {
            "needs_background": "light"
          }
        },
        {
          "output_type": "display_data",
          "data": {
            "text/plain": [
              "<Figure size 432x288 with 1 Axes>"
            ],
            "image/png": "[encoded data removed]"
          },
          "metadata": {
            "needs_background": "light"
          }
        }
      ]
    },
    {
      "cell_type": "markdown",
      "source": [
        "**Transaction amounts**\n",
        "\n",
        "Violin plot for all transaction amounts (above) and for the bottom 90% of transactions (below). Second chart is provided to get a better understanding of the distribution "
      ],
      "metadata": {
        "id": "1Gx3AkD1rkjP"
      }
    },
    {
      "cell_type": "code",
      "source": [
        "sns.violinplot(x=trx_df['TransactionAmount (INR)'])\n",
        "plt.show()\n",
        "y = trx_df[trx_df['TransactionAmount (INR)']<trx_df['TransactionAmount (INR)'].quantile(0.90)]\n",
        "sns.violinplot(x=y['TransactionAmount (INR)'])\n",
        "plt.show()"
      ],
      "metadata": {
        "colab": {
          "base_uri": "https://localhost:8080/",
          "height": 541
        },
        "id": "JERVyBSerlFf",
        "outputId": "ca1f4254-2c9d-40ef-f220-1c477f83ca9c"
      },
      "execution_count": 4,
      "outputs": [
        {
          "output_type": "display_data",
          "data": {
            "text/plain": [
              "<Figure size 432x288 with 1 Axes>"
            ],
            "image/png": "[encoded data removed]"
          },
          "metadata": {
            "needs_background": "light"
          }
        },
        {
          "output_type": "display_data",
          "data": {
            "text/plain": [
              "<Figure size 432x288 with 1 Axes>"
            ],
            "image/png": "[encoded data removed]"
          },
          "metadata": {
            "needs_background": "light"
          }
        }
      ]
    },
    {
      "cell_type": "markdown",
      "source": [
        "**Gender**\n",
        "\n",
        "As we can se below, there  is only one instance that drifts away from the M-binary nature of the field."
      ],
      "metadata": {
        "id": "I5VKFEgkppql"
      }
    },
    {
      "cell_type": "code",
      "source": [
        "print(trx_df['CustGender'].value_counts())\n",
        "trx_df = trx_df[trx_df['CustGender'] != 'T']\n",
        "trx_df['CustGender_bin'] = 0\n",
        "trx_df.loc[trx_df['CustGender'] == 'M', 'CustGender_bin'] = 1\n",
        "sns.countplot(x=trx_df['CustGender_bin'])"
      ],
      "metadata": {
        "colab": {
          "base_uri": "https://localhost:8080/",
          "height": 480
        },
        "id": "d0S9UTVwppSk",
        "outputId": "60b5ac68-a61b-4dda-da68-ffcab16b451a"
      },
      "execution_count": 5,
      "outputs": [
        {
          "output_type": "stream",
          "name": "stdout",
          "text": [
            "M    765530\n",
            "F    281936\n",
            "T         1\n",
            "Name: CustGender, dtype: int64\n"
          ]
        },
        {
          "output_type": "stream",
          "name": "stderr",
          "text": [
            "/usr/local/lib/python3.7/dist-packages/ipykernel_launcher.py:3: SettingWithCopyWarning: \n",
            "A value is trying to be set on a copy of a slice from a DataFrame.\n",
            "Try using .loc[row_indexer,col_indexer] = value instead\n",
            "\n",
            "See the caveats in the documentation: https://pandas.pydata.org/pandas-docs/stable/user_guide/indexing.html#returning-a-view-versus-a-copy\n",
            "  This is separate from the ipykernel package so we can avoid doing imports until\n"
          ]
        },
        {
          "output_type": "execute_result",
          "data": {
            "text/plain": [
              "<matplotlib.axes._subplots.AxesSubplot at 0x7fe5db99e390>"
            ]
          },
          "metadata": {},
          "execution_count": 5
        },
        {
          "output_type": "display_data",
          "data": {
            "text/plain": [
              "<Figure size 432x288 with 1 Axes>"
            ],
            "image/png": "[encoded data removed]"
          },
          "metadata": {
            "needs_background": "light"
          }
        }
      ]
    },
    {
      "cell_type": "markdown",
      "source": [
        "# TransactionTime\n",
        "\n",
        "For this field, the histogram shows a interference in the distribution marked by the distinct spikes in counts.\n",
        "This is because the last two digits (and the middle two as well) represent seconds and hours. Therefore, they only reach 60 (as opposed to 99 in a normal number).\n",
        "\n",
        "Below, we fix that. And we offset the time 5 hours into the past in order to capture the minimum values at the ends of the distribution."
      ],
      "metadata": {
        "id": "k3dYGlae14uh"
      }
    },
    {
      "cell_type": "code",
      "source": [
        "sns.histplot(data=trx_df, x=\"TransactionTime\")\n",
        "plt.show()\n",
        "trx_df['TransactionTime'] = np.floor(trx_df['TransactionTime']/10000) + round((trx_df['TransactionTime']/10000) % 1/0.60, 2) - 5\n",
        "trx_df.loc[trx_df['TransactionTime'] < 0, 'TransactionTime'] = trx_df['TransactionTime'] + 24\n",
        "sns.histplot(data=trx_df, x=\"TransactionTime\")\n",
        "plt.show()"
      ],
      "metadata": {
        "colab": {
          "base_uri": "https://localhost:8080/",
          "height": 541
        },
        "id": "iHf_UZTc15E4",
        "outputId": "d079aea8-72cd-4623-9272-14dae092374a"
      },
      "execution_count": 6,
      "outputs": [
        {
          "output_type": "display_data",
          "data": {
            "text/plain": [
              "<Figure size 432x288 with 1 Axes>"
            ],
            "image/png": "[encoded data removed]"
          },
          "metadata": {
            "needs_background": "light"
          }
        },
        {
          "output_type": "display_data",
          "data": {
            "text/plain": [
              "<Figure size 432x288 with 1 Axes>"
            ],
            "image/png": "[encoded data removed]"
          },
          "metadata": {
            "needs_background": "light"
          }
        }
      ]
    },
    {
      "cell_type": "markdown",
      "source": [
        "# Data cleaning and overview of the remaining fields"
      ],
      "metadata": {
        "id": "BoYBuESJ0qDz"
      }
    },
    {
      "cell_type": "markdown",
      "source": [
        "Before reducing the number of missing values, we will look at CustomerDOB, which presented some irregularities in the df.describe() function.\n",
        "\n",
        "The mode for the CustomerDOB field is an unreasonable date (1/1/1800). The records that presernt this value should really have a NULL value in them."
      ],
      "metadata": {
        "id": "CzDvA9nqjCvG"
      }
    },
    {
      "cell_type": "code",
      "source": [
        "trx_df.loc[trx_df['CustomerDOB'] == '1/1/1800', 'CustomerDOB'] = np.nan"
      ],
      "metadata": {
        "id": "BnX_JdSLjCdG"
      },
      "execution_count": 7,
      "outputs": []
    },
    {
      "cell_type": "markdown",
      "source": [
        "We will now work on missing values.\n",
        "\n",
        "Below is a bar chart representing the percentage of records with NULL values for each field that has any. The field that stands out is CustomerDOB (mostly due to the adjustment we made in the cell above)."
      ],
      "metadata": {
        "id": "ImR6BsNZht8s"
      }
    },
    {
      "cell_type": "code",
      "source": [
        "nans_series = trx_df.isna().sum()\n",
        "nans = pd.DataFrame()\n",
        "nans['field'] = nans_series.index\n",
        "nans['count'] = nans_series.to_list()\n",
        "nans = nans.loc[nans['count'] != 0]\n",
        "nans['Nan percentage (%)'] = 100*nans['count']/trx_df.shape[0]\n",
        "sns.barplot(data=nans, x='field', y='Nan percentage (%)')\n",
        "plt.show()"
      ],
      "metadata": {
        "colab": {
          "base_uri": "https://localhost:8080/",
          "height": 280
        },
        "id": "GioRVMA_htXk",
        "outputId": "d60a8aa1-4f79-4091-e047-7f6b205b684f"
      },
      "execution_count": 8,
      "outputs": [
        {
          "output_type": "display_data",
          "data": {
            "text/plain": [
              "<Figure size 432x288 with 1 Axes>"
            ],
            "image/png": "[encoded data removed]"
          },
          "metadata": {
            "needs_background": "light"
          }
        }
      ]
    },
    {
      "cell_type": "markdown",
      "source": [
        "Below we will impute NULL values using the mode value for that filed in the records labeld with the same Customer ID.\n",
        "\n",
        "That is to say, if a customer has three transactions, two with a CustomerDOB of '01/01/1992' and one with a CustomerDOB of NULL, we will impute that NULL value with '01/01/1992'."
      ],
      "metadata": {
        "id": "HuVdlJ82kRHq"
      }
    },
    {
      "cell_type": "code",
      "source": [
        "for nan_field in nans['field'].to_list():\n",
        "    sub_nans = trx_df[trx_df[nan_field].isna()]\n",
        "    customers = sub_nans['CustomerID'].unique()\n",
        "    sub_replacements = trx_df[(~trx_df[nan_field].isna()) & (trx_df['CustomerID'].isin(customers))]\n",
        "    sub_replacements = sub_replacements[['CustomerID', nan_field]]\n",
        "    sub_replacements = sub_replacements.groupby(['CustomerID']).agg(lambda x: x.value_counts().index[0])\n",
        "    sub_replacements = sub_replacements.rename(columns={nan_field: 'tmp'})\n",
        "    trx_df = trx_df.merge(sub_replacements, on='CustomerID', how='left')\n",
        "    trx_df[nan_field] = trx_df[nan_field].combine_first(trx_df['tmp'])\n",
        "    trx_df = trx_df.drop('tmp', axis=1)\n",
        "nans_series = trx_df.isna().sum()\n",
        "nans = pd.DataFrame()\n",
        "nans['field'] = nans_series.index\n",
        "nans['count'] = nans_series.to_list()\n",
        "nans = nans.loc[nans['count'] != 0]\n",
        "nans['Nan percentage (%)'] = 100*nans['count']/trx_df.shape[0]\n",
        "sns.barplot(data=nans, x='field', y='Nan percentage (%)')\n",
        "plt.show()"
      ],
      "metadata": {
        "colab": {
          "base_uri": "https://localhost:8080/",
          "height": 279
        },
        "id": "J1hMP2e1h7w_",
        "outputId": "515a0fef-629c-47c6-c720-479619d7f88c"
      },
      "execution_count": 9,
      "outputs": [
        {
          "output_type": "display_data",
          "data": {
            "text/plain": [
              "<Figure size 432x288 with 1 Axes>"
            ],
            "image/png": "[encoded data removed]"
          },
          "metadata": {
            "needs_background": "light"
          }
        }
      ]
    },
    {
      "cell_type": "markdown",
      "source": [
        "The bar chart above shows that about 20% of the missing values could reasonably be imputed using the mode value for that filed in the records labeld with the same Customer ID.\n",
        "\n",
        "Next, we will remove the remaining missings values and transform CustomerDOB and TransactionDate into pandas datatime objects."
      ],
      "metadata": {
        "id": "PmfVEoy5iQKy"
      }
    },
    {
      "cell_type": "code",
      "source": [
        "trx_df = trx_df.dropna()\n",
        "trx_df['CustomerDOB'] = pd.to_datetime(trx_df['CustomerDOB'], errors='coerce')\n",
        "trx_df['TransactionDate'] = pd.to_datetime(trx_df['TransactionDate'], errors='coerce')"
      ],
      "metadata": {
        "id": "pnM-qnlsm-0Z"
      },
      "execution_count": 10,
      "outputs": []
    },
    {
      "cell_type": "markdown",
      "source": [
        "And we will create two new fields: Age (from CustomerDOB) and IsWeekday (from TransactionDate)"
      ],
      "metadata": {
        "id": "hfVPnnCLnVMF"
      }
    },
    {
      "cell_type": "code",
      "source": [
        "def age(customer_dob):\n",
        "    today = pd.Timestamp.today()\n",
        "    res = pd.Timedelta(today - customer_dob).days\n",
        "    return res/365 if res > 0 else 100+res/365\n",
        "trx_df['Age'] = trx_df['CustomerDOB'].apply(age)\n",
        "trx_df['TransactionDayName'] = trx_df['TransactionDate'].dt.day_name()\n",
        "trx_df['IsWeekday'] = 1\n",
        "trx_df.loc[trx_df['TransactionDayName'].isin(['Saturday', 'Sunday']), 'IsWeekday'] = 0\n",
        "\n"
      ],
      "metadata": {
        "id": "gRZvDjdfnVtd"
      },
      "execution_count": 11,
      "outputs": []
    },
    {
      "cell_type": "markdown",
      "source": [
        "We next drop the superfluous and categorical variables. And we normalize the dataset."
      ],
      "metadata": {
        "id": "kIg9ZnP7G737"
      }
    },
    {
      "cell_type": "code",
      "source": [
        "trx_df = trx_df.drop(['TransactionID', 'CustomerID', 'CustomerDOB', 'TransactionDate', 'TransactionDayName', 'CustLocation', 'CustGender'], axis=1)\n",
        "scaled_df = StandardScaler().fit_transform(trx_df)\n",
        "scaled_df = pd.DataFrame(scaled_df, columns=trx_df.columns)"
      ],
      "metadata": {
        "id": "PNVYCxp3G7bQ"
      },
      "execution_count": 12,
      "outputs": []
    },
    {
      "cell_type": "markdown",
      "source": [
        "After our manipulation these are the fields we are left with:"
      ],
      "metadata": {
        "id": "PFJZ7-F9Foh4"
      }
    },
    {
      "cell_type": "code",
      "source": [
        "print(scaled_df.describe(include='all').to_string())"
      ],
      "metadata": {
        "colab": {
          "base_uri": "https://localhost:8080/"
        },
        "id": "t3w6xryaFo7p",
        "outputId": "39cc42a0-0541-4899-e0b2-048b849ce28d"
      },
      "execution_count": 13,
      "outputs": [
        {
          "output_type": "stream",
          "name": "stdout",
          "text": [
            "       CustAccountBalance  TransactionTime  TransactionAmount (INR)  CustGender_bin           Age     IsWeekday\n",
            "count        1.002908e+06     1.002908e+06             1.002908e+06    1.002908e+06  1.002908e+06  1.002908e+06\n",
            "mean        -2.903361e-17     2.811258e-17            -3.987339e-17    8.517376e-17 -1.949319e-15  6.348003e-18\n",
            "std          1.000000e+00     1.000000e+00             1.000000e+00    1.000000e+00  1.000000e+00  1.000000e+00\n",
            "min         -1.314404e-01    -2.580787e+00            -2.377877e-01   -1.624219e+00 -4.267953e+00 -1.572944e+00\n",
            "25%         -1.258443e-01    -7.647385e-01            -2.130237e-01   -1.624219e+00 -6.718235e-01 -1.572944e+00\n",
            "50%         -1.118154e-01     1.085286e-01            -1.674899e-01    6.156805e-01 -2.558381e-01  6.357505e-01\n",
            "75%         -6.509297e-02     7.732544e-01            -5.405474e-02    6.156805e-01  3.864509e-01  6.357505e-01\n",
            "max          1.389805e+02     2.630576e+00             2.490056e+02    6.156805e-01  7.084473e+00  6.357505e-01\n"
          ]
        }
      ]
    },
    {
      "cell_type": "markdown",
      "source": [
        "# Unspuervised model\n",
        "\n",
        "Below we train a k-means model to create 4 clusters that will represent our 4 marketing targets."
      ],
      "metadata": {
        "id": "igRN9EitJ2JK"
      }
    },
    {
      "cell_type": "code",
      "source": [
        "model = KMeans(n_clusters=4, random_state=42).fit(scaled_df)\n",
        "\n",
        "df_mn = trx_df.mean()\n",
        "df_sd = trx_df.std()\n",
        "\n",
        "for idx, centroid in enumerate(model.cluster_centers_):\n",
        "  print('Target customer #', idx + 1, ' will have the following characteristics:')\n",
        "  print('   Account balance:', round((df_mn[0] + centroid[0] * df_sd[0])/1000), 'thousand INR')\n",
        "  print('   Transaction Time:', round(df_mn[1] + centroid[1] * df_sd[1]))\n",
        "  print('   Transaction Amount:', round(df_mn[2] + centroid[2] * df_sd[2]), 'INR')\n",
        "  if round(df_mn[3] + centroid[3] * df_sd[3]) == 1:\n",
        "    print('   Gender: Male')\n",
        "  else:\n",
        "    print('   Gender: Female')\n",
        "  print('   Age:', round(df_mn[4] + centroid[4] * df_sd[4]))\n",
        "  print('   IsWeekday:', round(df_mn[5] + centroid[5] * df_sd[5]))"
      ],
      "metadata": {
        "colab": {
          "base_uri": "https://localhost:8080/"
        },
        "id": "HdSHNzTnKWWz",
        "outputId": "813e3309-6a6e-4eb3-83a3-f9c4a98a3993"
      },
      "execution_count": 17,
      "outputs": [
        {
          "output_type": "stream",
          "name": "stdout",
          "text": [
            "Target customer # 1  will have the following characteristics:\n",
            "   Account balance: 108 thousand INR\n",
            "   Transaction Time: 12\n",
            "   Transaction Amount: 1471 INR\n",
            "   Gender: Male\n",
            "   Age: 38\n",
            "   IsWeekday: 0\n",
            "Target customer # 2  will have the following characteristics:\n",
            "   Account balance: 100 thousand INR\n",
            "   Transaction Time: 12\n",
            "   Transaction Amount: 1417 INR\n",
            "   Gender: Male\n",
            "   Age: 38\n",
            "   IsWeekday: 1\n",
            "Target customer # 3  will have the following characteristics:\n",
            "   Account balance: 96 thousand INR\n",
            "   Transaction Time: 12\n",
            "   Transaction Amount: 1629 INR\n",
            "   Gender: Female\n",
            "   Age: 37\n",
            "   IsWeekday: 1\n",
            "Target customer # 4  will have the following characteristics:\n",
            "   Account balance: 47287 thousand INR\n",
            "   Transaction Time: 10\n",
            "   Transaction Amount: 11966 INR\n",
            "   Gender: Male\n",
            "   Age: 64\n",
            "   IsWeekday: 1\n"
          ]
        }
      ]
    },
    {
      "cell_type": "markdown",
      "source": [
        "# Conclusions\n",
        "\n",
        "Based on the unsupervised clustering of our clients, our new TV commercial will show:\n",
        "\n",
        "*   Target #1 will be a 38 year old male on vacation setting (IsWeekday: 0), with an outfit corresponding to an account balance of 108k INR will make a 1471 INR discretionary purchase - perhaps lunch (Transaction Time: 12)\n",
        "\n",
        "*   Target #2 and #3 will be a couple of 37-38 year old coworkers making both around 98k INR, this will be reflected in the style and cost of the actors outfit. The male will be filmed making the purchase to account for the 4-5% difference in Account balances between target #3 and target #2. Both will be dressed in working attire since they generally make functional purchases during their working lunch break. The purchased objects will be in the 1629 - 1417 range (the higher end will be for the lady, while the lower end will be for the gentleman).\n",
        "\n",
        "\n",
        "*   During the morning, a 64 year old male on a suit will purchase a plane ticket for an upcoming work event\n",
        "\n",
        "This is just an example of customer segemntation reflected in the characters of our TV commercial. The scenes might change a little but the logic behind the representation of our actual customers should guide the casting, scirpt and filming circumstances."
      ],
      "metadata": {
        "id": "ULKAMavdP8IC"
      }
    }
  ]
}